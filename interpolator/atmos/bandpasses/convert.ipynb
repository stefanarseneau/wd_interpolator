{
 "cells": [
  {
   "cell_type": "code",
   "execution_count": 14,
   "id": "1299b796",
   "metadata": {},
   "outputs": [],
   "source": [
    "import matplotlib.pyplot as plt\n",
    "import numpy as np\n",
    "\n",
    "#names = (\"SLOAN_SDSS.z.dat\", \"SDSS_z.npy\")\n",
    "#wavelengths, values = np.loadtxt(names[1], unpack=True)\n",
    "\n",
    "from astropy.io import fits\n",
    "spec = fits.open(\"alpha_lyr_stis_002.fits\")\n",
    "wvpass = np.load(\"Gaia_G.npy\")"
   ]
  },
  {
   "cell_type": "code",
   "execution_count": 20,
   "id": "157fef5d",
   "metadata": {},
   "outputs": [],
   "source": [
    "wavl, flux = spec[1].data['WAVELENGTH'], spec[1].data['FLUX']\n",
    "wavelengths, values = wvpass[0,:], wvpass[1,:]\n",
    "values = np.interp(wavl, wavelengths, values)"
   ]
  },
  {
   "cell_type": "code",
   "execution_count": 23,
   "id": "f46542da",
   "metadata": {},
   "outputs": [
    {
     "data": {
      "text/plain": [
       "np.float64(21.507623032130144)"
      ]
     },
     "execution_count": 23,
     "metadata": {},
     "output_type": "execute_result"
    }
   ],
   "source": [
    "-2.5*np.log10(np.trapezoid(flux*values*wavl, wavl) / np.trapezoid(values*wavl, wavl))"
   ]
  },
  {
   "cell_type": "code",
   "execution_count": 24,
   "id": "71b3836f",
   "metadata": {},
   "outputs": [
    {
     "data": {
      "text/plain": [
       "XTENSION= 'BINTABLE'           /Written by IDL:  Tue Jun 15 13:19:13 2004       \n",
       "BITPIX  =                    8 /                                                \n",
       "NAXIS   =                    2 /Binary table                                    \n",
       "NAXIS1  =                   28 /Number of bytes per row                         \n",
       "NAXIS2  =                 8671 /Number of rows                                  \n",
       "PCOUNT  =                    0 /Random parameter count                          \n",
       "GCOUNT  =                    1 /Group count                                     \n",
       "TFIELDS =                    7 /Number of columns                               \n",
       "EXTNAME = 'SCI     '           /                                                \n",
       "EXTVER  =                    1 /                                                \n",
       "INHERIT =                    T /                                                \n",
       "TFORM1  = '1E      '           /Real*4 (floating point)                         \n",
       "TTYPE1  = 'WAVELENGTH'         /Label for column 1                              \n",
       "TUNIT1  = 'ANGSTROMS'          /Units of column 1                               \n",
       "TDISP1  = 'G10.4   '           /Display format for column 1                     \n",
       "TFORM2  = '1E      '           /Real*4 (floating point)                         \n",
       "TTYPE2  = 'FLUX    '           /Absolutely calibrated net spectrum              \n",
       "TUNIT2  = 'FLAM    '           /Units of column 2                               \n",
       "TDISP2  = 'E12.4   '           /Display format for column 2                     \n",
       "TFORM3  = '1E      '           /Real*4 (floating point)                         \n",
       "TTYPE3  = 'STATERROR'          /Statistical flux error                          \n",
       "TUNIT3  = 'FLAM    '           /Units of column 3                               \n",
       "TDISP3  = 'E12.4   '           /Display format for column 3                     \n",
       "TFORM4  = '1E      '           /Real*4 (floating point)                         \n",
       "TTYPE4  = 'SYSERROR'           /Systematic flux error=0.01*FLAM                 \n",
       "TUNIT4  = 'FLAM    '           /Units of column 4                               \n",
       "TDISP4  = 'E12.4   '           /Display format for column 4                     \n",
       "TFORM5  = '1E      '           /Real*4 (floating point)                         \n",
       "TTYPE5  = 'FWHM    '           /FWHM spectral resolution                        \n",
       "TUNIT5  = 'ANGSTROMS'          /Units of column 5                               \n",
       "TDISP5  = 'G6.2    '           /Display format for column 5                     \n",
       "TFORM6  = '1E      '           /Real*4 (floating point)                         \n",
       "TTYPE6  = 'DATAQUAL'           /Data quality: 1=good, 0=bad                     \n",
       "TUNIT6  = 'NONE    '           /Units of column 6                               \n",
       "TDISP6  = 'I2      '           /Display format for column 6                     \n",
       "TFORM7  = '1E      '           /Real*4 (floating point)                         \n",
       "TTYPE7  = 'TOTEXP  '           /Total exposure time                             \n",
       "TUNIT7  = 'SEC     '           /Units of column 7                               \n",
       "TDISP7  = 'G10.2   '           /Display format for column 7                     "
      ]
     },
     "execution_count": 24,
     "metadata": {},
     "output_type": "execute_result"
    }
   ],
   "source": [
    "spec[1].header"
   ]
  },
  {
   "cell_type": "code",
   "execution_count": null,
   "id": "d2675b7d",
   "metadata": {},
   "outputs": [],
   "source": []
  }
 ],
 "metadata": {
  "kernelspec": {
   "display_name": "structure",
   "language": "python",
   "name": "python3"
  },
  "language_info": {
   "codemirror_mode": {
    "name": "ipython",
    "version": 3
   },
   "file_extension": ".py",
   "mimetype": "text/x-python",
   "name": "python",
   "nbconvert_exporter": "python",
   "pygments_lexer": "ipython3",
   "version": "3.13.2"
  }
 },
 "nbformat": 4,
 "nbformat_minor": 5
}
