{
 "cells": [
  {
   "cell_type": "code",
   "execution_count": 5,
   "id": "1299b796",
   "metadata": {},
   "outputs": [],
   "source": [
    "import matplotlib.pyplot as plt\n",
    "import numpy as np\n",
    "import glob, os\n",
    "from astroquery.svo_fps import SvoFps"
   ]
  },
  {
   "cell_type": "code",
   "execution_count": 11,
   "id": "7d1eed73",
   "metadata": {},
   "outputs": [],
   "source": [
    "def compute_lpivots(wavl, transm) -> np.array:\n",
    "    \"\"\"compute the pivot wavelengths for a given spectral energy distribution\"\"\"\n",
    "    num = np.trapezoid(transm, wavl, axis=0)\n",
    "    den = np.trapezoid(transm / wavl**2, wavl, axis=0)\n",
    "    return np.sqrt(num / den)"
   ]
  },
  {
   "cell_type": "code",
   "execution_count": 12,
   "id": "465c9363",
   "metadata": {},
   "outputs": [],
   "source": [
    "files = glob.glob(\"temp/*.txt\")\n"
   ]
  },
  {
   "cell_type": "code",
   "execution_count": 19,
   "id": "df7cddab",
   "metadata": {},
   "outputs": [
    {
     "name": "stdout",
     "output_type": "stream",
     "text": [
      "5140.176599823184\n",
      "4302.454161572532\n",
      "6603.630777257596\n",
      "3527.4279933409507\n",
      "7631.084240456523\n",
      "4107.235420379451\n",
      "3781.8077493802953\n",
      "3939.1370262561777\n",
      "6226.21588100082\n",
      "8935.085490722875\n",
      "8608.756555268043\n",
      "4749.337913751088\n"
     ]
    }
   ],
   "source": [
    "for file in files:\n",
    "    data = np.loadtxt(file, comments=\"#\").T\n",
    "    basename = os.path.basename(file)             # e.g., JPLUS_J0515.txt\n",
    "    name_without_ext = os.path.splitext(basename)[0]  # e.g., JPLUS_J0515\n",
    "    print(compute_lpivots(data[0,:], data[1,:]))\n",
    "    np.save(f\"{name_without_ext}.npy\", data)  "
   ]
  },
  {
   "cell_type": "code",
   "execution_count": 16,
   "id": "f585c9ef",
   "metadata": {},
   "outputs": [
    {
     "data": {
      "text/plain": [
       "array([[3.20000000e+03, 3.21000000e+03, 3.22000000e+03, ...,\n",
       "        1.09800000e+04, 1.09900000e+04, 1.10000000e+04],\n",
       "       [2.37366962e-08, 1.57774443e-07, 9.08554755e-07, ...,\n",
       "        0.00000000e+00, 0.00000000e+00, 0.00000000e+00]], shape=(2, 781))"
      ]
     },
     "execution_count": 16,
     "metadata": {},
     "output_type": "execute_result"
    }
   ],
   "source": [
    "data = np.load('Gaia_G.npy')\n",
    "data"
   ]
  },
  {
   "cell_type": "code",
   "execution_count": null,
   "id": "321a03c3",
   "metadata": {},
   "outputs": [],
   "source": []
  }
 ],
 "metadata": {
  "kernelspec": {
   "display_name": "structure",
   "language": "python",
   "name": "python3"
  },
  "language_info": {
   "codemirror_mode": {
    "name": "ipython",
    "version": 3
   },
   "file_extension": ".py",
   "mimetype": "text/x-python",
   "name": "python",
   "nbconvert_exporter": "python",
   "pygments_lexer": "ipython3",
   "version": "3.13.2"
  }
 },
 "nbformat": 4,
 "nbformat_minor": 5
}
