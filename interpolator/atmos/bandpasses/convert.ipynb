{
 "cells": [
  {
   "cell_type": "code",
   "execution_count": 5,
   "id": "1299b796",
   "metadata": {},
   "outputs": [],
   "source": [
    "import matplotlib.pyplot as plt\n",
    "import numpy as np\n",
    "import glob, os\n",
    "from astroquery.svo_fps import SvoFps"
   ]
  },
  {
   "cell_type": "code",
   "execution_count": null,
   "id": "7d1eed73",
   "metadata": {},
   "outputs": [],
   "source": [
    "def compute_lpivots(wavl, transm) -> np.array:\n",
    "    \"\"\"compute the pivot wavelengths for a given spectral energy distribution\"\"\"\n",
    "    num = np.trapezoid(transm, wavl, axis=0)\n",
    "    den = np.trapezoid(transm / wavl**2, wavl, axis=0)\n",
    "    return np.sqrt(num / den)"
   ]
  },
  {
   "cell_type": "code",
   "execution_count": 6,
   "id": "465c9363",
   "metadata": {},
   "outputs": [],
   "source": [
    "files = glob.glob(\"temp/*.txt\")\n"
   ]
  },
  {
   "cell_type": "code",
   "execution_count": 10,
   "id": "df7cddab",
   "metadata": {},
   "outputs": [
    {
     "name": "stdout",
     "output_type": "stream",
     "text": [
      "JPLUS_J0515\n",
      "JPLUS_J0430\n",
      "JPLUS_J0660\n",
      "JPLUS_uJava\n",
      "JPLUS_iSDSS\n",
      "JPLUS_J0410\n",
      "JPLUS_J0378\n",
      "JPLUS_J0395\n",
      "JPLUS_rSDSS\n",
      "JPLUS_zSDSS\n",
      "JPLUS_J0861\n",
      "JPLUS_gSDSS\n"
     ]
    }
   ],
   "source": [
    "for file in files:\n",
    "    data = np.loadtxt(file, comments=\"#\")\n",
    "    basename = os.path.basename(file)             # e.g., JPLUS_J0515.txt\n",
    "    name_without_ext = os.path.splitext(basename)[0]  # e.g., JPLUS_J0515\n",
    "    print(name_without_ext)\n",
    "    np.save(f\"{name_without_ext}.npy\", data)  "
   ]
  },
  {
   "cell_type": "code",
   "execution_count": null,
   "id": "f585c9ef",
   "metadata": {},
   "outputs": [],
   "source": [
    "data = np.loadtxt(filename, comments='#')"
   ]
  },
  {
   "cell_type": "code",
   "execution_count": null,
   "id": "321a03c3",
   "metadata": {},
   "outputs": [],
   "source": []
  }
 ],
 "metadata": {
  "kernelspec": {
   "display_name": "structure",
   "language": "python",
   "name": "python3"
  },
  "language_info": {
   "codemirror_mode": {
    "name": "ipython",
    "version": 3
   },
   "file_extension": ".py",
   "mimetype": "text/x-python",
   "name": "python",
   "nbconvert_exporter": "python",
   "pygments_lexer": "ipython3",
   "version": "3.13.2"
  }
 },
 "nbformat": 4,
 "nbformat_minor": 5
}
