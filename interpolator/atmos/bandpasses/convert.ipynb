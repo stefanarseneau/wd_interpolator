{
 "cells": [
  {
   "cell_type": "code",
   "execution_count": 7,
   "id": "1299b796",
   "metadata": {},
   "outputs": [],
   "source": [
    "import matplotlib.pyplot as plt\n",
    "import numpy as np\n",
    "import glob\n",
    "from astroquery.svo_fps import SvoFps"
   ]
  },
  {
   "cell_type": "code",
   "execution_count": 8,
   "id": "04dd3f9a",
   "metadata": {},
   "outputs": [
    {
     "ename": "NameError",
     "evalue": "name 'filters' is not defined",
     "output_type": "error",
     "traceback": [
      "\u001b[31m---------------------------------------------------------------------------\u001b[39m",
      "\u001b[31mNameError\u001b[39m                                 Traceback (most recent call last)",
      "\u001b[36mCell\u001b[39m\u001b[36m \u001b[39m\u001b[32mIn[8]\u001b[39m\u001b[32m, line 1\u001b[39m\n\u001b[32m----> \u001b[39m\u001b[32m1\u001b[39m names = [\u001b[33m'\u001b[39m\u001b[33m_\u001b[39m\u001b[33m'\u001b[39m.join(f.split(\u001b[33m'\u001b[39m\u001b[33m_\u001b[39m\u001b[33m'\u001b[39m)[\u001b[32m1\u001b[39m].split(\u001b[33m'\u001b[39m\u001b[33m.\u001b[39m\u001b[33m'\u001b[39m)[:-\u001b[32m1\u001b[39m]) \u001b[38;5;28;01mfor\u001b[39;00m f \u001b[38;5;129;01min\u001b[39;00m \u001b[43mfilters\u001b[49m]\n\u001b[32m      2\u001b[39m names\n",
      "\u001b[31mNameError\u001b[39m: name 'filters' is not defined"
     ]
    }
   ],
   "source": [
    "names = ['_'.join(f.split('_')[1].split('.')[:-1]) for f in filters]\n",
    "names"
   ]
  },
  {
   "cell_type": "code",
   "execution_count": 9,
   "id": "6d85cf8c",
   "metadata": {},
   "outputs": [
    {
     "ename": "NameError",
     "evalue": "name 'names' is not defined",
     "output_type": "error",
     "traceback": [
      "\u001b[31m---------------------------------------------------------------------------\u001b[39m",
      "\u001b[31mNameError\u001b[39m                                 Traceback (most recent call last)",
      "\u001b[36mCell\u001b[39m\u001b[36m \u001b[39m\u001b[32mIn[9]\u001b[39m\u001b[32m, line 1\u001b[39m\n\u001b[32m----> \u001b[39m\u001b[32m1\u001b[39m names_full = [(filters[ii], names[ii]) \u001b[38;5;28;01mfor\u001b[39;00m ii \u001b[38;5;129;01min\u001b[39;00m \u001b[38;5;28mrange\u001b[39m(\u001b[38;5;28mlen\u001b[39m(\u001b[43mnames\u001b[49m))]\n\u001b[32m      2\u001b[39m names_full\n",
      "\u001b[31mNameError\u001b[39m: name 'names' is not defined"
     ]
    }
   ],
   "source": [
    "names_full = [(filters[ii], names[ii]) for ii in range(len(names))]\n",
    "names_full"
   ]
  },
  {
   "cell_type": "code",
   "execution_count": null,
   "id": "d2675b7d",
   "metadata": {},
   "outputs": [],
   "source": [
    "for ii in range(len(names_full)):\n",
    "    wavelengths, values = np.loadtxt(names_full[ii][0], unpack=True)\n",
    "    #np.save(names_full[ii][1], np.array([wavelengths, values]))"
   ]
  },
  {
   "cell_type": "code",
   "execution_count": null,
   "id": "f6487686",
   "metadata": {},
   "outputs": [],
   "source": [
    "wlrange = np.linspace(3200, 11000, 781)\n",
    "data = SvoFps.get_transmission_data('OAJ/JPLUS.J0861').to_pandas().values\n",
    "transm = np.interp(wlrange, data[:,0], data[:,1], left=0, right=0)\n",
    "#np.save(\"JPLUS_J0861.npy\", np.array([wlrange, transm]).T)"
   ]
  },
  {
   "cell_type": "code",
   "execution_count": 42,
   "id": "f08148d7",
   "metadata": {},
   "outputs": [
    {
     "data": {
      "text/plain": [
       "[<matplotlib.lines.Line2D at 0x7f5d9a638910>]"
      ]
     },
     "execution_count": 42,
     "metadata": {},
     "output_type": "execute_result"
    },
    {
     "data": {
      "image/png": "[encoded data removed]",
      "text/plain": [
       "<Figure size 640x480 with 1 Axes>"
      ]
     },
     "metadata": {},
     "output_type": "display_data"
    }
   ],
   "source": [
    "dat = np.load(\"JPLUS_J0378.npy\")\n",
    "plt.plot(dat[:,0], dat[:,1])"
   ]
  },
  {
   "cell_type": "code",
   "execution_count": 23,
   "id": "a7ed542f",
   "metadata": {},
   "outputs": [
    {
     "data": {
      "text/plain": [
       "array([[ 3200.,  3210.,  3220., ..., 10980., 10990., 11000.],\n",
       "       [    0.,     0.,     0., ...,     0.,     0.,     0.]],\n",
       "      shape=(2, 781))"
      ]
     },
     "execution_count": 23,
     "metadata": {},
     "output_type": "execute_result"
    }
   ],
   "source": [
    "np.load('Gaia_BP.npy')"
   ]
  },
  {
   "cell_type": "code",
   "execution_count": null,
   "id": "321a03c3",
   "metadata": {},
   "outputs": [],
   "source": []
  }
 ],
 "metadata": {
  "kernelspec": {
   "display_name": "structure",
   "language": "python",
   "name": "python3"
  },
  "language_info": {
   "codemirror_mode": {
    "name": "ipython",
    "version": 3
   },
   "file_extension": ".py",
   "mimetype": "text/x-python",
   "name": "python",
   "nbconvert_exporter": "python",
   "pygments_lexer": "ipython3",
   "version": "3.13.2"
  }
 },
 "nbformat": 4,
 "nbformat_minor": 5
}
