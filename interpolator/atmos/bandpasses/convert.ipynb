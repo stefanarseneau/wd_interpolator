{
 "cells": [
  {
   "cell_type": "code",
   "execution_count": 3,
   "id": "1299b796",
   "metadata": {},
   "outputs": [],
   "source": [
    "import matplotlib.pyplot as plt\n",
    "import numpy as np\n"
   ]
  },
  {
   "cell_type": "code",
   "execution_count": null,
   "id": "d2675b7d",
   "metadata": {},
   "outputs": [],
   "source": [
    "names = (\"PAN-STARRS_PS1.y.dat\", \"PS1_y.npy\")\n",
    "wavelengths, values = np.loadtxt(names[0], unpack=True)\n",
    "np.save(names[1], np.array([wavelengths, values]))"
   ]
  },
  {
   "cell_type": "code",
   "execution_count": 20,
   "id": "5232fe30",
   "metadata": {},
   "outputs": [],
   "source": [
    "import pandas as pd\n",
    "name = 'PS1_y'\n",
    "data = pd.read_csv(f'{name}.csv', comment='#')\n",
    "wavl, flux = data.WAVELENGTH.values, data.THROUGHPUT.values\n",
    "np.save(f'{name}.npy', np.array([wavl, flux]))"
   ]
  },
  {
   "cell_type": "code",
   "execution_count": null,
   "id": "f6487686",
   "metadata": {},
   "outputs": [],
   "source": []
  }
 ],
 "metadata": {
  "kernelspec": {
   "display_name": "structure",
   "language": "python",
   "name": "python3"
  },
  "language_info": {
   "codemirror_mode": {
    "name": "ipython",
    "version": 3
   },
   "file_extension": ".py",
   "mimetype": "text/x-python",
   "name": "python",
   "nbconvert_exporter": "python",
   "pygments_lexer": "ipython3",
   "version": "3.13.2"
  }
 },
 "nbformat": 4,
 "nbformat_minor": 5
}
