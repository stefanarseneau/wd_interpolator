{
 "cells": [
  {
   "cell_type": "code",
   "execution_count": 1,
   "id": "1299b796",
   "metadata": {},
   "outputs": [],
   "source": [
    "import matplotlib.pyplot as plt\n",
    "import numpy as np\n",
    "import glob"
   ]
  },
  {
   "cell_type": "code",
   "execution_count": 2,
   "id": "1b3c106e",
   "metadata": {},
   "outputs": [],
   "source": [
    "filters = glob.glob(\"temp/*.dat\")"
   ]
  },
  {
   "cell_type": "code",
   "execution_count": 10,
   "id": "04dd3f9a",
   "metadata": {},
   "outputs": [
    {
     "data": {
      "text/plain": [
       "['JPLUS_rSDSS', 'JPLUS_uJAVA', 'JPLUS_gSDSS', 'JPLUS_iSDSS', 'JPLUS_zSDSS']"
      ]
     },
     "execution_count": 10,
     "metadata": {},
     "output_type": "execute_result"
    }
   ],
   "source": [
    "names = ['_'.join(f.split('_')[1].split('.')[:-1]) for f in filters]\n",
    "names"
   ]
  },
  {
   "cell_type": "code",
   "execution_count": 11,
   "id": "6d85cf8c",
   "metadata": {},
   "outputs": [
    {
     "data": {
      "text/plain": [
       "[('temp/OAJ_JPLUS.rSDSS.dat', 'JPLUS_rSDSS'),\n",
       " ('temp/OAJ_JPLUS.uJAVA.dat', 'JPLUS_uJAVA'),\n",
       " ('temp/OAJ_JPLUS.gSDSS.dat', 'JPLUS_gSDSS'),\n",
       " ('temp/OAJ_JPLUS.iSDSS.dat', 'JPLUS_iSDSS'),\n",
       " ('temp/OAJ_JPLUS.zSDSS.dat', 'JPLUS_zSDSS')]"
      ]
     },
     "execution_count": 11,
     "metadata": {},
     "output_type": "execute_result"
    }
   ],
   "source": [
    "names_full = [(filters[ii], names[ii]) for ii in range(len(names))]\n",
    "names_full"
   ]
  },
  {
   "cell_type": "code",
   "execution_count": 12,
   "id": "d2675b7d",
   "metadata": {},
   "outputs": [],
   "source": [
    "for ii in range(len(names_full)):\n",
    "    wavelengths, values = np.loadtxt(names_full[ii][0], unpack=True)\n",
    "    np.save(names_full[ii][1], np.array([wavelengths, values]))"
   ]
  },
  {
   "cell_type": "code",
   "execution_count": null,
   "id": "f6487686",
   "metadata": {},
   "outputs": [],
   "source": []
  }
 ],
 "metadata": {
  "kernelspec": {
   "display_name": "structure",
   "language": "python",
   "name": "python3"
  },
  "language_info": {
   "codemirror_mode": {
    "name": "ipython",
    "version": 3
   },
   "file_extension": ".py",
   "mimetype": "text/x-python",
   "name": "python",
   "nbconvert_exporter": "python",
   "pygments_lexer": "ipython3",
   "version": "3.13.2"
  }
 },
 "nbformat": 4,
 "nbformat_minor": 5
}
