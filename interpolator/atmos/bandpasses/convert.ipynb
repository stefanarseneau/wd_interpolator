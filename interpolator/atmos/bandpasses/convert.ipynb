{
 "cells": [
  {
   "cell_type": "code",
   "execution_count": 1,
   "id": "1299b796",
   "metadata": {},
   "outputs": [],
   "source": [
    "import matplotlib.pyplot as plt\n",
    "import numpy as np\n",
    "import glob"
   ]
  },
  {
   "cell_type": "code",
   "execution_count": 10,
   "id": "1b3c106e",
   "metadata": {},
   "outputs": [],
   "source": [
    "filters = glob.glob(\"temp/*.dat\")"
   ]
  },
  {
   "cell_type": "code",
   "execution_count": 11,
   "id": "4c04e3a9",
   "metadata": {},
   "outputs": [],
   "source": [
    "names = ['JPLUS_J0395',\n",
    " 'JPLUS_F0395',\n",
    " 'JPLUS_F0861',\n",
    " 'JPLUS_J0430',\n",
    " 'JPLUS_F0430',\n",
    " 'JPLUS_J0515',\n",
    " 'JPLUS_F0378',\n",
    " 'JPLUS_J0861',\n",
    " 'JPLUS_F0515',\n",
    " 'JPLUS_J0378',\n",
    " 'JPLUS_F0410',\n",
    " 'JPLUS_J0660',\n",
    " 'JPLUS_J0410',\n",
    " 'JPLUS_F0660']"
   ]
  },
  {
   "cell_type": "code",
   "execution_count": 12,
   "id": "6d85cf8c",
   "metadata": {},
   "outputs": [
    {
     "data": {
      "text/plain": [
       "[('temp/OAJ_JPLUS.J0395.dat', 'JPLUS_J0395'),\n",
       " ('temp/OAJ_JPLUS.F0395_filter.dat', 'JPLUS_F0395'),\n",
       " ('temp/OAJ_JPLUS.F0861_filter.dat', 'JPLUS_F0861'),\n",
       " ('temp/OAJ_JPLUS.J0430.dat', 'JPLUS_J0430'),\n",
       " ('temp/OAJ_JPLUS.F0430_filter.dat', 'JPLUS_F0430'),\n",
       " ('temp/OAJ_JPLUS.J0515.dat', 'JPLUS_J0515'),\n",
       " ('temp/OAJ_JPLUS.F0378_filter.dat', 'JPLUS_F0378'),\n",
       " ('temp/OAJ_JPLUS.J0861.dat', 'JPLUS_J0861'),\n",
       " ('temp/OAJ_JPLUS.F0515_filter.dat', 'JPLUS_F0515'),\n",
       " ('temp/OAJ_JPLUS.J0378.dat', 'JPLUS_J0378'),\n",
       " ('temp/OAJ_JPLUS.F0410_filter.dat', 'JPLUS_F0410'),\n",
       " ('temp/OAJ_JPLUS.J0660.dat', 'JPLUS_J0660'),\n",
       " ('temp/OAJ_JPLUS.J0410.dat', 'JPLUS_J0410'),\n",
       " ('temp/OAJ_JPLUS.F0660_filter.dat', 'JPLUS_F0660')]"
      ]
     },
     "execution_count": 12,
     "metadata": {},
     "output_type": "execute_result"
    }
   ],
   "source": [
    "names_full = [(filters[ii], names[ii]) for ii in range(len(names))]\n",
    "names_full"
   ]
  },
  {
   "cell_type": "code",
   "execution_count": 15,
   "id": "d2675b7d",
   "metadata": {},
   "outputs": [],
   "source": [
    "for ii in range(len(names_full)):\n",
    "    wavelengths, values = np.loadtxt(names_full[ii][0], unpack=True)\n",
    "    np.save(names_full[ii][1], np.array([wavelengths, values]))"
   ]
  },
  {
   "cell_type": "code",
   "execution_count": null,
   "id": "f6487686",
   "metadata": {},
   "outputs": [],
   "source": []
  }
 ],
 "metadata": {
  "kernelspec": {
   "display_name": "structure",
   "language": "python",
   "name": "python3"
  },
  "language_info": {
   "codemirror_mode": {
    "name": "ipython",
    "version": 3
   },
   "file_extension": ".py",
   "mimetype": "text/x-python",
   "name": "python",
   "nbconvert_exporter": "python",
   "pygments_lexer": "ipython3",
   "version": "3.13.2"
  }
 },
 "nbformat": 4,
 "nbformat_minor": 5
}
