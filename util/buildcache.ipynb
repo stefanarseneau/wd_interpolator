{
 "cells": [
  {
   "cell_type": "code",
   "execution_count": null,
   "id": "7eb92e3a",
   "metadata": {},
   "outputs": [],
   "source": [
    "import sys\n",
    "sys.path.append('..')\n",
    "import interpolator as interp\n",
    "import numpy as np\n",
    "import pandas as pd\n",
    "import tqdm\n",
    "import pyphot\n",
    "\n",
    "lib = pyphot.get_library()"
   ]
  },
  {
   "cell_type": "code",
   "execution_count": 29,
   "id": "22cad300",
   "metadata": {},
   "outputs": [],
   "source": [
    "filters = lib.content\n",
    "interpolator = interp.interpolator.Spectrum(model = '1d_da_nlte', units = 'flam')"
   ]
  },
  {
   "cell_type": "code",
   "execution_count": null,
   "id": "8f9b3d5d",
   "metadata": {},
   "outputs": [
    {
     "name": "stderr",
     "output_type": "stream",
     "text": [
      "  0%|          | 0/7 [00:00<?, ?it/s]"
     ]
    }
   ],
   "source": [
    "rowvals = np.nan*np.zeros((interpolator.unique_logg.shape[0]*interpolator.unique_logteff.shape[0], 2 + len(filters)))\n",
    "for i, logg in tqdm.tqdm(enumerate(interpolator.unique_logg), total=interpolator.unique_logg.shape[0]):\n",
    "    for j, teff in enumerate(10**interpolator.unique_logteff):\n",
    "        idx = i*interpolator.unique_logteff.shape[0] + j\n",
    "        fluxes = np.array([lib[filt].get_flux(interpolator.wavl*pyphot.unit['AA'], \n",
    "                                                            interpolator(teff, logg)*pyphot.unit['erg/s/cm**2/AA']).to('erg/s/cm**2/AA').value for filt in filters])\n",
    "        rowvals[idx,0] = teff\n",
    "        rowvals[idx,1] = logg\n",
    "        rowvals[idx,2:] = fluxes"
   ]
  },
  {
   "cell_type": "code",
   "execution_count": null,
   "id": "07bd45fe",
   "metadata": {},
   "outputs": [],
   "source": []
  }
 ],
 "metadata": {
  "kernelspec": {
   "display_name": "structure",
   "language": "python",
   "name": "python3"
  },
  "language_info": {
   "codemirror_mode": {
    "name": "ipython",
    "version": 3
   },
   "file_extension": ".py",
   "mimetype": "text/x-python",
   "name": "python",
   "nbconvert_exporter": "python",
   "pygments_lexer": "ipython3",
   "version": "3.13.2"
  }
 },
 "nbformat": 4,
 "nbformat_minor": 5
}
