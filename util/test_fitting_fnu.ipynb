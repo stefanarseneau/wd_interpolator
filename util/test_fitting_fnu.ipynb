{
 "cells": [
  {
   "cell_type": "code",
   "execution_count": 1,
   "id": "ba1393d4",
   "metadata": {},
   "outputs": [],
   "source": [
    "import matplotlib.pyplot as plt\n",
    "import pandas as pd\n",
    "import numpy as np\n",
    "import tqdm as tqdm\n",
    "import sys\n",
    "\n",
    "sys.path.append('..')\n",
    "import interpolator\n",
    "import pyvo\n",
    "\n",
    "import pyphot\n",
    "\n",
    "#sys.path.append('../..')\n",
    "#import wdtools_nicole as wdtools\n",
    "\n",
    "import sys, os\n",
    "wdmodels_dir = os.environ['WDMODELS_DIR']\n",
    "sys.path.append(wdmodels_dir)\n",
    "import WD_models\n",
    "\n",
    "plt.style.use('stefan.mplstyle')"
   ]
  },
  {
   "cell_type": "code",
   "execution_count": 2,
   "id": "d4550426",
   "metadata": {},
   "outputs": [],
   "source": [
    "\"\"\"compute the radial velocity from radius and effective temperature\n",
    "\"\"\"\n",
    "mass_sun, radius_sun, newton_G, speed_light = 1.9884e30, 6.957e8, 6.674e-11, 299792458\n",
    "font_model = WD_models.load_model('f', 'f', 'f', 'H')\n",
    "g_acc = (10**font_model['logg'])/100\n",
    "rsun = np.sqrt(font_model['mass_array'] * mass_sun * newton_G / g_acc) / radius_sun\n",
    "logg_function = WD_models.interp_xy_z_func(x = 10**font_model['logteff'], y = font_model['logg'],\\\n",
    "                                            z = rsun, interp_type = 'linear')"
   ]
  },
  {
   "cell_type": "code",
   "execution_count": 3,
   "id": "a9d5c3dd",
   "metadata": {},
   "outputs": [
    {
     "data": {
      "text/plain": [
       "array([21.50298444, 20.97310752, 22.2411774 ])"
      ]
     },
     "execution_count": 3,
     "metadata": {},
     "output_type": "execute_result"
    }
   ],
   "source": [
    "\"\"\"build the model SED using default filters\n",
    "\"\"\"\n",
    "defaults = interpolator.atmos.sed.get_default_filters({'zerofile' : 'alpha_lyr_stis_011'})\n",
    "SED = interpolator.atmos.WarwickPhotometry('1d_da_nlte', [defaults['Gaia_G'], defaults['Gaia_BP'], defaults['Gaia_RP']], units = 'flam')\n",
    "SED.zeropoints"
   ]
  },
  {
   "cell_type": "code",
   "execution_count": 4,
   "id": "fd4dd162",
   "metadata": {},
   "outputs": [
    {
     "data": {
      "text/plain": [
       "(np.float64(1500.0000000000005),\n",
       " np.float64(6.49996186559619),\n",
       " np.float64(0.0001),\n",
       " array([[3698.45485409, 5756.8332602 , 2035.58281343],\n",
       "        [3660.73169012, 5693.66554961, 2018.86508826],\n",
       "        [3623.40550163, 5631.20149917, 2002.28928854],\n",
       "        [3586.47199288, 5569.43313883, 1985.8541785 ],\n",
       "        [3549.92691586, 5508.35259044, 1969.55853337],\n",
       "        [3513.7660697 , 5447.95206672, 1953.40113921],\n",
       "        [3477.98530019, 5388.22387016, 1937.38079288],\n",
       "        [3442.5804992 , 5329.16039197, 1921.49630188],\n",
       "        [3407.5476042 , 5270.75411106, 1905.74648431],\n",
       "        [3372.88259772, 5212.99759298, 1890.13016875],\n",
       "        [3338.5815068 , 5155.88348891, 1874.64619415],\n",
       "        [3304.64040257, 5099.40453466, 1859.29340977],\n",
       "        [3271.05539966, 5043.55354967, 1844.07067507],\n",
       "        [3237.82265576, 4988.32343604, 1828.9768596 ],\n",
       "        [3204.93837113, 4933.70717755, 1814.01084295],\n",
       "        [3172.39878808, 4879.69783871, 1799.17151463],\n",
       "        [3140.20019052, 4826.28856378, 1784.45777399],\n",
       "        [3108.33890349, 4773.4725759 , 1769.86853013],\n",
       "        [3076.81129267, 4721.24317609, 1755.40270181],\n",
       "        [3045.61376396, 4669.5937424 , 1741.05921736],\n",
       "        [3014.74276297, 4618.51772897, 1726.83701462],\n",
       "        [2984.19477463, 4568.00866515, 1712.73504082],\n",
       "        [2953.96632267, 4518.06015461, 1698.75225251],\n",
       "        [2924.05396926, 4468.6658745 , 1684.88761548],\n",
       "        [2894.45431453, 4419.81957455, 1671.14010467],\n",
       "        [2865.16399612, 4371.51507625, 1657.50870409],\n",
       "        [2836.17968883, 4323.74627198, 1643.99240674],\n",
       "        [2807.4981041 , 4276.50712421, 1630.59021455],\n",
       "        [2779.11598969, 4229.79166469, 1617.30113824],\n",
       "        [2751.03012921, 4183.59399358, 1604.12419731],\n",
       "        [2723.23734172, 4137.90827873, 1591.05841993],\n",
       "        [2695.73448135, 4092.72875481, 1578.10284283],\n",
       "        [2668.5184369 , 4048.0497226 , 1565.25651131],\n",
       "        [2641.58613144, 4003.86554817, 1552.51847906],\n",
       "        [2614.93452191, 3960.17066214, 1539.88780816],\n",
       "        [2588.56059878, 3916.95955891, 1527.36356898],\n",
       "        [2562.46138561, 3874.22679593, 1514.94484009],\n",
       "        [2536.63393874, 3831.96699296, 1502.63070822],\n",
       "        [2511.07534688, 3790.17483134, 1490.42026814],\n",
       "        [2485.78273074, 3748.84505329, 1478.31262265]]),\n",
       " array([3698.75072562, 5757.32885429, 2035.71379899]))"
      ]
     },
     "execution_count": 4,
     "metadata": {},
     "output_type": "execute_result"
    }
   ],
   "source": [
    "interp, _, (T, L, A, grid_sansav, grid) = SED.make_cache(nAV=40)\n",
    "T[0], L[0], A[0], grid[0,0], interp(T[0], L[0])"
   ]
  },
  {
   "cell_type": "code",
   "execution_count": 5,
   "id": "d2a81eaf",
   "metadata": {},
   "outputs": [
    {
     "data": {
      "text/plain": [
       "(array([3.42911355e-16, 5.34228965e-16, 1.91405711e-16]),)"
      ]
     },
     "execution_count": 5,
     "metadata": {},
     "output_type": "execute_result"
    }
   ],
   "source": [
    "theta = [10000, 8.001777261158344, 100, 0]\n",
    "interpolator.fit.get_model_flux(theta, interp, logg_function=logg_function), "
   ]
  },
  {
   "cell_type": "code",
   "execution_count": 17,
   "id": "e7456024",
   "metadata": {},
   "outputs": [
    {
     "data": {
      "text/plain": [
       "array([3.19141439e-16, 5.76128582e-16, 1.32447840e-16])"
      ]
     },
     "execution_count": 17,
     "metadata": {},
     "output_type": "execute_result"
    }
   ],
   "source": [
    "4*np.pi*interp(23507, 8.16) * ((0.0128*6.957e8)**2 / (220.98*3.08568e16)**2)"
   ]
  },
  {
   "cell_type": "code",
   "execution_count": 6,
   "id": "03e030cc",
   "metadata": {},
   "outputs": [
    {
     "data": {
      "text/plain": [
       "(array([3.42920934e-16, 5.34246308e-16, 1.91407879e-16]),)"
      ]
     },
     "execution_count": 6,
     "metadata": {},
     "output_type": "execute_result"
    }
   ],
   "source": [
    "theta = [10000, 0.01281575, 100, 0, 0.6]\n",
    "interpolator.fit.get_model_flux(theta, interp, logg_function=None), "
   ]
  },
  {
   "cell_type": "code",
   "execution_count": 7,
   "id": "93380ff6",
   "metadata": {},
   "outputs": [
    {
     "data": {
      "text/plain": [
       "array(0.01281575)"
      ]
     },
     "execution_count": 7,
     "metadata": {},
     "output_type": "execute_result"
    }
   ],
   "source": [
    "logg= np.log10(100*(newton_G * mass_sun * 0.6) / (0.0128 * radius_sun)**2)\n",
    "rad2 = logg_function(10000, logg)\n",
    "rad2"
   ]
  },
  {
   "cell_type": "code",
   "execution_count": 8,
   "id": "1e49fdfe",
   "metadata": {},
   "outputs": [],
   "source": [
    "# array([21.50762303, 20.97943774, 22.24345324])"
   ]
  },
  {
   "cell_type": "code",
   "execution_count": 9,
   "id": "c4114f60",
   "metadata": {},
   "outputs": [],
   "source": [
    "def mag_to_flux(mag : np.array, e_mag : np.array):\n",
    "    \"\"\"convert vega magnitudes to fluxes in flam units\n",
    "    \"\"\"\n",
    "    flux = np.power(10, -0.4*(mag - np.array([-21.48503, -20.96683, -22.22089])))  \n",
    "    e_flux = 1.09 * flux * e_mag\n",
    "    return flux, e_flux\n",
    "\n",
    "def loss(params, fl, e_fl, plx, av):\n",
    "    pc_to_m, radius_sun = 3.08568e16, 6.957e8\n",
    "    teff, logg = params.valuesdict().values()\n",
    "    theta = np.array([teff, logg, 1000 / plx, 0])\n",
    "    flux_model = interpolator.fit.get_model_flux(theta, interp, logg_function=logg_function)\n",
    "    return (fl - flux_model) / e_fl"
   ]
  },
  {
   "cell_type": "code",
   "execution_count": 20,
   "id": "1985712f",
   "metadata": {},
   "outputs": [],
   "source": [
    "tap_service = pyvo.dal.TAPService(\"http://TAPVizieR.u-strasbg.fr/TAPVizieR/tap/\")\n",
    "QUERY = f\"\"\"select top 1000 *\n",
    "        from \\\"J/MNRAS/508/3877/maincat\\\"\n",
    "        where TeffH is not NULL and MassH is not NULL and meanAV is not NULL and RPlx > 3\n",
    "        and GaiaEDR3 = 2496972013118785408\"\"\"\n",
    "ngfdata = tap_service.search(QUERY).to_table().to_pandas()"
   ]
  },
  {
   "cell_type": "code",
   "execution_count": 24,
   "id": "cb57793b",
   "metadata": {},
   "outputs": [
    {
     "data": {
      "text/html": [
       "<div>\n",
       "<style scoped>\n",
       "    .dataframe tbody tr th:only-of-type {\n",
       "        vertical-align: middle;\n",
       "    }\n",
       "\n",
       "    .dataframe tbody tr th {\n",
       "        vertical-align: top;\n",
       "    }\n",
       "\n",
       "    .dataframe thead th {\n",
       "        text-align: right;\n",
       "    }\n",
       "</style>\n",
       "<table border=\"1\" class=\"dataframe\">\n",
       "  <thead>\n",
       "    <tr style=\"text-align: right;\">\n",
       "      <th></th>\n",
       "      <th>GmagCorr</th>\n",
       "      <th>BPmag</th>\n",
       "      <th>RPmag</th>\n",
       "    </tr>\n",
       "  </thead>\n",
       "  <tbody>\n",
       "    <tr>\n",
       "      <th>0</th>\n",
       "      <td>17.522392</td>\n",
       "      <td>17.4304</td>\n",
       "      <td>17.6845</td>\n",
       "    </tr>\n",
       "  </tbody>\n",
       "</table>\n",
       "</div>"
      ],
      "text/plain": [
       "    GmagCorr    BPmag    RPmag\n",
       "0  17.522392  17.4304  17.6845"
      ]
     },
     "execution_count": 24,
     "metadata": {},
     "output_type": "execute_result"
    }
   ],
   "source": [
    "ngfdata[['GmagCorr', 'BPmag', 'RPmag']]"
   ]
  },
  {
   "cell_type": "code",
   "execution_count": 21,
   "id": "a10591f0",
   "metadata": {},
   "outputs": [
    {
     "name": "stderr",
     "output_type": "stream",
     "text": [
      "100%|██████████| 1/1 [00:00<00:00, 92.69it/s]\n"
     ]
    }
   ],
   "source": [
    "import lmfit\n",
    "\n",
    "values = np.zeros((len(ngfdata), 4))\n",
    "for i, row in tqdm.tqdm(ngfdata.iterrows(), total=len(ngfdata)):\n",
    "    extinction = np.array([0.835*row.meanAV, 1.139*row.meanAV, 0.650*row.meanAV])\n",
    "    mags = row[['GmagCorr', 'BPmag', 'RPmag']].values - extinction# + 5*(np.log10((row.Plx - row.ZPcor)*1e-3) + 1)\n",
    "    e_mags = row[['e_GmagCorr', 'e_BPmag', 'e_RPmag']].values\n",
    "    #fluxes, e_fluxes = SED.mag_to_flux(mags, e_mags)\n",
    "    fluxes, e_fluxes = mag_to_flux(mags, e_mags)\n",
    "\n",
    "    params = lmfit.Parameters()\n",
    "    params.add('teff', value=10000, min=2000, max=50000, vary=True)\n",
    "    params.add('logg', value=8, min=7.15, max=9, vary=True)\n",
    "\n",
    "    res = lmfit.minimize(loss, params, args = (fluxes, e_fluxes, row.Plx - row.ZPcor, 0))\n",
    "    teff, logg = res.params['teff'].value, res.params['logg'].value\n",
    "    values[i,0] = row.GaiaEDR3\n",
    "    values[i,1] = teff\n",
    "    values[i,2] = logg\n",
    "    values[i,3] = res.redchi\n",
    "leastsq = pd.DataFrame(values, columns=['GaiaEDR3', 'teff', 'logg', 'redchi'])"
   ]
  },
  {
   "cell_type": "code",
   "execution_count": 22,
   "id": "9b473352",
   "metadata": {},
   "outputs": [
    {
     "data": {
      "text/html": [
       "<div>\n",
       "<style scoped>\n",
       "    .dataframe tbody tr th:only-of-type {\n",
       "        vertical-align: middle;\n",
       "    }\n",
       "\n",
       "    .dataframe tbody tr th {\n",
       "        vertical-align: top;\n",
       "    }\n",
       "\n",
       "    .dataframe thead th {\n",
       "        text-align: right;\n",
       "    }\n",
       "</style>\n",
       "<table border=\"1\" class=\"dataframe\">\n",
       "  <thead>\n",
       "    <tr style=\"text-align: right;\">\n",
       "      <th></th>\n",
       "      <th>GaiaEDR3</th>\n",
       "      <th>teff</th>\n",
       "      <th>logg</th>\n",
       "      <th>redchi</th>\n",
       "    </tr>\n",
       "  </thead>\n",
       "  <tbody>\n",
       "    <tr>\n",
       "      <th>0</th>\n",
       "      <td>2.496972e+18</td>\n",
       "      <td>19951.104084</td>\n",
       "      <td>7.979497</td>\n",
       "      <td>0.148644</td>\n",
       "    </tr>\n",
       "  </tbody>\n",
       "</table>\n",
       "</div>"
      ],
      "text/plain": [
       "       GaiaEDR3          teff      logg    redchi\n",
       "0  2.496972e+18  19951.104084  7.979497  0.148644"
      ]
     },
     "execution_count": 22,
     "metadata": {},
     "output_type": "execute_result"
    }
   ],
   "source": [
    "leastsq.query(\"GaiaEDR3 == 2496972013118785408\")"
   ]
  },
  {
   "cell_type": "code",
   "execution_count": 12,
   "id": "176bcf64",
   "metadata": {},
   "outputs": [],
   "source": [
    "def interpolate_massteff(massarray : np.array, teffarray : np.array, Hlayer : str = 'thick') -> np.array:\n",
    "    \"\"\"compute the radial velocity from mass and effective temperature\n",
    "    \"\"\"\n",
    "    assert Hlayer in ['thick', 'thin'], 'Hlayer must be either \"thick\" or \"thin\"'\n",
    "    mass_sun, radius_sun, newton_G, speed_light = 1.9884e30, 6.957e8, 6.674e-11, 299792458\n",
    "    font_model = WD_models.load_model('f', 'f', 'f', 'H') if Hlayer == 'thick' else WD_models.load_model('f', 'ft', 'f', 'H')\n",
    "    g_acc = (10**font_model['logg'])/100\n",
    "    rsun = np.sqrt(font_model['mass_array'] * mass_sun * newton_G / g_acc) / radius_sun\n",
    "    mass_teff_to_radius = WD_models.interp_xy_z_func(x = font_model['mass_array'], y = 10**font_model['logteff'],\\\n",
    "                                                z = rsun, interp_type = 'linear')\n",
    "    radius = mass_teff_to_radius(massarray, teffarray)\n",
    "    return radius\n",
    "\n",
    "ngfdata['RadiusH'] = interpolate_massteff(ngfdata.MassH.values, ngfdata.TeffH.values, Hlayer = 'thick')\n",
    "leastsq['radius'] = logg_function(leastsq.teff, leastsq.logg)\n",
    "leastsq['mass'] = (1e-2*10**leastsq.logg * ((leastsq.radius*radius_sun)**2 / newton_G))/mass_sun\n",
    "leastsq = leastsq.query(\"mass > 0.46\")"
   ]
  },
  {
   "cell_type": "code",
   "execution_count": 13,
   "id": "f4e82b36",
   "metadata": {},
   "outputs": [],
   "source": [
    "comparison = pd.merge(leastsq, ngfdata, on='GaiaEDR3')\n",
    "comparison['teff_pct_err'] = (comparison.teff - comparison.TeffH) / comparison.teff * 100\n",
    "comparison['logg_pct_err'] = (comparison.logg - comparison.loggH) / comparison.logg * 100\n",
    "comparison['ngf_dist'] = 1000 / (comparison.Plx + comparison.ZPcor)"
   ]
  },
  {
   "cell_type": "code",
   "execution_count": 14,
   "id": "e69d0990",
   "metadata": {},
   "outputs": [
    {
     "data": {
      "text/plain": [
       "(-10.0, 10.0)"
      ]
     },
     "execution_count": 14,
     "metadata": {},
     "output_type": "execute_result"
    },
    {
     "data": {
      "image/png": "[encoded data removed]",
      "text/plain": [
       "<Figure size 800x600 with 1 Axes>"
      ]
     },
     "metadata": {},
     "output_type": "display_data"
    }
   ],
   "source": [
    "import matplotlib.patches as patches\n",
    "\n",
    "def scatter_hist(x, y, ax, ax_histx, ax_histy):\n",
    "    # no labels\n",
    "    ax_histx.tick_params(axis=\"x\", labelbottom=False)\n",
    "    ax_histy.tick_params(axis=\"y\", labelleft=False)\n",
    "    # the scatter plot:\n",
    "    scatter = ax.scatter(x, y, c='k', s = 5)\n",
    "    ax.axhline(y = 0, ls = ':', alpha = 0.5, c = 'k')\n",
    "    ax.axvline(x = 0, ls = ':', alpha = 0.5, c = 'k')\n",
    "    # now determine nice limits by hand:\n",
    "    binwidth = 0.5\n",
    "    ax_histx.hist(x, color = 'k', histtype = 'step')\n",
    "    ax_histx.axvline(x = 0, ls = ':', alpha = 0.5, c = 'k')\n",
    "    ax_histy.hist(y, orientation='horizontal', color = 'k', histtype = 'step')\n",
    "    ax_histy.axhline(y = 0, ls = ':', alpha = 0.5, c = 'k')\n",
    "    ax_histx.set_yscale('log')\n",
    "    ax_histy.set_xscale('log')\n",
    "    return scatter\n",
    "\n",
    "fig = plt.figure(layout='constrained', figsize=(8,6))\n",
    "ax = fig.add_gridspec(top=0.75, right=0.75).subplots()\n",
    "ax.set(aspect=1)\n",
    "\n",
    "ax_histx = ax.inset_axes([0, 1.05, 1, 0.25], sharex=ax)\n",
    "ax_histy = ax.inset_axes([1.05, 0, 0.25, 1], sharey=ax)\n",
    "\n",
    "temp_compare = comparison.copy()\n",
    "scatter_mass = scatter_hist(temp_compare.logg_pct_err, temp_compare.teff_pct_err, ax = ax, \n",
    "                            ax_histx = ax_histx, ax_histy = ax_histy)\n",
    "confidence_ellipses = [0.5, 1]\n",
    "for val in confidence_ellipses:\n",
    "    circle = patches.Circle((0, 0), val, edgecolor='blue', facecolor='none', ls = '--', linewidth=1, label='')\n",
    "    ax.add_patch(circle)\n",
    "ax.set_xlabel(r'$\\Delta \\log g$ (My - NGF+21) [%]')\n",
    "ax.set_ylabel(r'$\\Delta T$ (My - NGF+21) [%]')\n",
    "ax.set_xlim(-10,10)\n",
    "ax.set_ylim(-10,10)"
   ]
  },
  {
   "cell_type": "code",
   "execution_count": 15,
   "id": "c128afe7",
   "metadata": {},
   "outputs": [
    {
     "data": {
      "text/plain": [
       "array([2.50499131e-09, 4.08090977e-09, 1.26919700e-09])"
      ]
     },
     "execution_count": 15,
     "metadata": {},
     "output_type": "execute_result"
    }
   ],
   "source": [
    "10**(-0.4*SED.zeropoints)"
   ]
  },
  {
   "cell_type": "code",
   "execution_count": 16,
   "id": "aa197e30",
   "metadata": {},
   "outputs": [
    {
     "data": {
      "text/plain": [
       "array([21.50950163, 20.98404659, 22.23197508])"
      ]
     },
     "execution_count": 16,
     "metadata": {},
     "output_type": "execute_result"
    }
   ],
   "source": [
    "-2.5*np.log10([2.49e-9, 4.04e-9, 1.28e-9])"
   ]
  },
  {
   "cell_type": "code",
   "execution_count": null,
   "id": "b3d19bcd",
   "metadata": {},
   "outputs": [],
   "source": []
  }
 ],
 "metadata": {
  "kernelspec": {
   "display_name": "structure",
   "language": "python",
   "name": "python3"
  },
  "language_info": {
   "codemirror_mode": {
    "name": "ipython",
    "version": 3
   },
   "file_extension": ".py",
   "mimetype": "text/x-python",
   "name": "python",
   "nbconvert_exporter": "python",
   "pygments_lexer": "ipython3",
   "version": "3.13.2"
  }
 },
 "nbformat": 4,
 "nbformat_minor": 5
}
